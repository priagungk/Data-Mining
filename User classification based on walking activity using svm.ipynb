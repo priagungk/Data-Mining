{
 "metadata": {
  "name": "",
  "signature": "sha256:e938f9e6986d77d1168af624eeb74f526a8ad575bc846cb01d6dd55eef230862"
 },
 "nbformat": 3,
 "nbformat_minor": 0,
 "worksheets": [
  {
   "cells": [
    {
     "cell_type": "heading",
     "level": 2,
     "metadata": {},
     "source": [
      "This notebook will explains how to use SVM Classifier for classify user based on their walking behavior. "
     ]
    },
    {
     "cell_type": "heading",
     "level": 4,
     "metadata": {},
     "source": [
      "The used dataset is public dataset which can be downloaded in this website https://archive.ics.uci.edu/ml/datasets/Human+Activity+Recognition+Using+Smartphones"
     ]
    },
    {
     "cell_type": "code",
     "collapsed": false,
     "input": [
      "#load some modules that will be used in this notebook\n",
      "import pandas as pd\n",
      "import numpy as np\n",
      "from sklearn.svm import SVC\n",
      "from sklearn.cross_validation import StratifiedKFold\n",
      "from sklearn.grid_search import GridSearchCV\n",
      "from sklearn.cross_validation import train_test_split\n",
      "from sklearn import svm\n",
      "from sklearn.metrics import classification_report"
     ],
     "language": "python",
     "metadata": {},
     "outputs": [],
     "prompt_number": 1
    },
    {
     "cell_type": "code",
     "collapsed": false,
     "input": [
      "#load dataset\n",
      "df = pd.read_csv('samsungData.csv', index_col=0)"
     ],
     "language": "python",
     "metadata": {},
     "outputs": [],
     "prompt_number": 2
    },
    {
     "cell_type": "code",
     "collapsed": false,
     "input": [
      "#select walking activity\n",
      "df = df[df['activity'] == 'walk']"
     ],
     "language": "python",
     "metadata": {},
     "outputs": [],
     "prompt_number": 3
    },
    {
     "cell_type": "code",
     "collapsed": false,
     "input": [
      "# select data\n",
      "X = df.iloc[:,0:561]\n",
      "X = np.array(X)"
     ],
     "language": "python",
     "metadata": {},
     "outputs": [],
     "prompt_number": 4
    },
    {
     "cell_type": "code",
     "collapsed": false,
     "input": [
      "# select label of data,in here the labels of data are user ID \n",
      "Y = df.iloc[:,561]\n",
      "Y = np.array(Y)"
     ],
     "language": "python",
     "metadata": {},
     "outputs": [],
     "prompt_number": 5
    },
    {
     "cell_type": "code",
     "collapsed": false,
     "input": [
      "# splitting the data into traning and test data, the ratio between traning and test is 9:1\n",
      "X_train, X_test, y_train, y_test = train_test_split(X,Y, test_size=0.90, random_state=0)"
     ],
     "language": "python",
     "metadata": {},
     "outputs": [],
     "prompt_number": 6
    },
    {
     "cell_type": "code",
     "collapsed": false,
     "input": [
      "#Search best paramater for SVM using grid search method\n",
      "C_range = 10.**np.arange(-2,9)\n",
      "gamma_range = 10.**np.arange(-5,4)\n",
      "param_grid = dict(gamma = gamma_range, C = C_range)\n",
      "grid = GridSearchCV(SVC(), param_grid= param_grid, cv = StratifiedKFold(y=y_test))\n",
      "grid.fit(X_test,y_test)\n",
      "print(grid.best_estimator_)"
     ],
     "language": "python",
     "metadata": {},
     "outputs": [
      {
       "output_type": "stream",
       "stream": "stdout",
       "text": [
        "SVC(C=10.0, cache_size=200, class_weight=None, coef0=0.0, degree=3,\n",
        "  gamma=0.01, kernel='rbf', max_iter=-1, probability=False,\n",
        "  random_state=None, shrinking=True, tol=0.001, verbose=False)\n"
       ]
      }
     ],
     "prompt_number": 7
    },
    {
     "cell_type": "code",
     "collapsed": false,
     "input": [
      "# apply svm classifier using the parameters that are obatained using grid search method\n",
      "clf = svm.SVC(C=10.0, cache_size=200, class_weight=None, coef0=0.0, degree=3,\n",
      "  gamma=0.01, kernel='rbf', max_iter=-1, probability=False,\n",
      "  random_state=None, shrinking=True, tol=0.001, verbose=False)\n",
      "clf.fit(X_train, y_train)\n",
      "predicted = clf.predict(X_test)"
     ],
     "language": "python",
     "metadata": {},
     "outputs": [],
     "prompt_number": 8
    },
    {
     "cell_type": "code",
     "collapsed": false,
     "input": [
      "# show the classification results\n",
      "print classification_report(y_test,predicted)"
     ],
     "language": "python",
     "metadata": {},
     "outputs": [
      {
       "output_type": "stream",
       "stream": "stdout",
       "text": [
        "             precision    recall  f1-score   support\n",
        "\n",
        "          1       1.00      1.00      1.00        85\n",
        "          3       0.96      0.92      0.94        51\n",
        "          5       0.84      0.94      0.89        52\n",
        "          6       0.91      0.81      0.86        53\n",
        "          7       1.00      0.96      0.98        51\n",
        "          8       0.98      1.00      0.99        44\n",
        "         11       0.98      1.00      0.99        52\n",
        "         14       1.00      1.00      1.00        56\n",
        "         15       1.00      0.90      0.95        52\n",
        "         16       0.93      0.98      0.96        44\n",
        "         17       0.93      0.98      0.96        55\n",
        "         19       1.00      0.89      0.94        47\n",
        "         21       0.96      1.00      0.98        46\n",
        "         22       1.00      1.00      1.00        36\n",
        "         23       1.00      1.00      1.00        53\n",
        "         25       0.96      1.00      0.98        65\n",
        "         26       0.88      0.96      0.92        54\n",
        "         27       1.00      0.48      0.65        56\n",
        "         28       0.63      1.00      0.77        44\n",
        "         29       1.00      1.00      1.00        50\n",
        "         30       1.00      1.00      1.00        58\n",
        "\n",
        "avg / total       0.95      0.94      0.94      1104\n",
        "\n"
       ]
      }
     ],
     "prompt_number": 9
    },
    {
     "cell_type": "heading",
     "level": 4,
     "metadata": {},
     "source": [
      "Reference"
     ]
    },
    {
     "cell_type": "heading",
     "level": 4,
     "metadata": {},
     "source": [
      " http://scikit-learn.org/stable/modules/svm.html"
     ]
    }
   ],
   "metadata": {}
  }
 ]
}