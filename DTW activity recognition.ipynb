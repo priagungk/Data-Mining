{

 "metadata": {

  "name": "",

  "signature": "sha256:2070239b61335b2e062a080f76a4aac4e835d44ac796b2cbddcb92b14cce40d2"

 },

 "nbformat": 3,

 "nbformat_minor": 0,

 "worksheets": [

  {

   "cells": [

    {

     "cell_type": "code",

     "collapsed": false,

     "input": [

      "import pandas as pd #lib for importing csv to dataframe\n",

      "import math # lib math for using math operation \n",

      "import numpy as np #lib for array\n",

      "import matplotlib as plt #lib for plotting data\n",

      "from dtw import dtw as DTW #lib dynamic time wrapping for calculate distance between two timeseries data \n",

      "from scipy.interpolate import interp1d #lib for intepolating data\n",

      "%pylab inline"

     ],

     "language": "python",

     "metadata": {},

     "outputs": [

      {

       "output_type": "stream",

       "stream": "stdout",

       "text": [

        "Populating the interactive namespace from numpy and matplotlib\n"

       ]

      },

      {

       "output_type": "stream",

       "stream": "stderr",

       "text": [

        "WARNING: pylab import has clobbered these variables: ['plt']\n",

        "`%matplotlib` prevents importing * from pylab and numpy\n"

       ]

      }

     ],

     "prompt_number": 1

    },

    {

     "cell_type": "code",

     "collapsed": false,

     "input": [

      "#function for calculating total acceleration \n",

      "def acc(df):\n",

      "    m = math.sqrt(df['ACCELEROMETER X (m/s\u00b2)']**2+df['ACCELEROMETER Y (m/s\u00b2)']**2+df['ACCELEROMETER Z (m/s\u00b2)']**2)\n",

      "    return m\n",

      "# inisialiation interpolation\n",

      "x = np.linspace(0, 10, 91)\n",

      "xnew =  np.linspace(0,10,121)"

     ],

     "language": "python",

     "metadata": {},

     "outputs": [],

     "prompt_number": 2

    },

    {

     "cell_type": "code",

     "collapsed": false,

     "input": [

      "# load and import data(template data) from csv to dataframe\n",

      "fall_1 = pd.read_csv('DTW/Template/Sensor_record_20141214_113754_AndroSensor.csv',nrows=91)\n",

      "walk_1 = pd.read_csv('DTW/Template/Sensor_record_20141214_132911_AndroSensor.csv', nrows=91)\n",

      "run_1 = pd.read_csv('DTW/Template/Sensor_record_20141214_134226_AndroSensor.csv',  nrows=91)\n",

      "up_1 = pd.read_csv('DTW/Template/Sensor_record_20141214_135656_AndroSensor.csv',  nrows=91)"

     ],

     "language": "python",

     "metadata": {},

     "outputs": [],

     "prompt_number": 3

    },

    {

     "cell_type": "code",

     "collapsed": false,

     "input": [

      "# calculate the total acceleration from template data (each activity)\n",

      "fall_1['m'] = fall_1.apply(acc, axis=1)\n",

      "walk_1['m'] = walk_1.apply(acc, axis=1)\n",

      "run_1['m'] = run_1.apply(acc, axis=1)\n",

      "up_1['m'] = up_1.apply(acc, axis=1)"

     ],

     "language": "python",

     "metadata": {},

     "outputs": [],

     "prompt_number": 4

    },

    {

     "cell_type": "code",

     "collapsed": false,

     "input": [

      "# intepolate data template using lienar interpolation and make a label for each activity\n",

      "ff_1 = interp1d(x, fall_1['m'], kind='linear')\n",

      "fall = pd.DataFrame(ff_1(xnew))\n",

      "fw_1 = interp1d(x, walk_1['m'], kind='linear')\n",

      "walking = pd.DataFrame(fw_1(xnew))\n",

      "fr_1 = interp1d(x, run_1['m'], kind='linear')\n",

      "running = pd.DataFrame(fr_1(xnew))\n",

      "fu_1 = interp1d(x, up_1['m'], kind='linear')\n",

      "upstairs = pd.DataFrame(fu_1(xnew))\n",

      "fall.columns = ['Fall']\n",

      "walking.columns = ['Walking']\n",

      "running.columns = ['Running']\n",

      "upstairs.columns = ['Upstrais']"

     ],

     "language": "python",

     "metadata": {},

     "outputs": [],

     "prompt_number": 5

    },

    {

     "cell_type": "code",

     "collapsed": false,

     "input": [

      "# ploting data template for each activity\n",

      "plt.figure(figsize=(20,15))\n",

      "plt.subplot(321)\n",

      "plt.plot(fall, color='red')\n",

      "plt.title(\"FALL\")\n",

      "plt.xlabel(\"Time\")\n",

      "plt.ylabel(\"Acceleration\")\n",

      "plt.subplot(322)\n",

      "plt.plot(walking, color='red')\n",

      "plt.title(\"WALKING\")\n",

      "plt.xlabel(\"Time\")\n",

      "plt.ylabel(\"Acceleration\")\n",

      "plt.subplot(323)\n",

      "plt.plot(running, color='red')\n",

      "plt.title(\"RUNNING\")\n",

      "plt.xlabel(\"Time\")\n",

      "plt.ylabel(\"Acceleration\")\n",

      "plt.subplot(324)\n",

      "plt.plot(upstairs, color='red')\n",

      "plt.title(\"UPSTAIRS\")\n",

      "plt.xlabel(\"Time\")\n",

      "plt.ylabel(\"Acceleration\")"

     ],

     "language": "python",

     "metadata": {},

     "outputs": [

      {

       "metadata": {},

       "output_type": "pyout",

       "prompt_number": 18,

       "text": [

        "<matplotlib.text.Text at 0xb019750>"

       ]

      },

      {

       "metadata": {},

       "output_type": "display_data",

       "png": "[encoded data removed]",

       "text": [

        "<matplotlib.figure.Figure at 0xabc5d30>"

       ]

      }

     ],

     "prompt_number": 18

    },

    {

     "cell_type": "code",

     "collapsed": false,

     "input": [

      "# Import data testing from csv into dataframe, import 80 data\n",

      "# for fall = 20 data test, walking = 20 data test, running = 20 data test, upstairs = 20 data test \n",

      "unknown_1 = pd.read_csv('DTW/dataTesting/Sensor_record_20141214_113638_AndroSensor.csv',nrows=91)\n",

      "unknown_2 = pd.read_csv('DTW/dataTesting/Sensor_record_20141214_113732_AndroSensor.csv',nrows=91)\n",

      "unknown_3 = pd.read_csv('DTW/dataTesting/Sensor_record_20141214_113754_AndroSensor.csv',nrows=91)\n",

      "unknown_4 = pd.read_csv('DTW/dataTesting/Sensor_record_20141214_113816_AndroSensor.csv',nrows=91)\n",

      "unknown_5 = pd.read_csv('DTW/dataTesting/Sensor_record_20141214_113837_AndroSensor.csv',nrows=91)\n",

      "unknown_6 = pd.read_csv('DTW/dataTesting/Sensor_record_20141214_113900_AndroSensor.csv',nrows=91)\n",

      "unknown_7 = pd.read_csv('DTW/dataTesting/Sensor_record_20141214_113932_AndroSensor.csv',nrows=91)\n",

      "unknown_8 = pd.read_csv('DTW/dataTesting/Sensor_record_20141214_114003_AndroSensor.csv',nrows=91)\n",

      "unknown_9 = pd.read_csv('DTW/dataTesting/Sensor_record_20141214_114038_AndroSensor.csv',nrows=91)\n",

      "unknown_10 = pd.read_csv('DTW/dataTesting/Sensor_record_20141214_114102_AndroSensor.csv', nrows=91)\n",

      "unknown_11 = pd.read_csv('DTW/dataTesting/Sensor_record_20141216_094533_AndroSensor.csv', nrows=91)\n",

      "unknown_12 = pd.read_csv('DTW/dataTesting/Sensor_record_20141216_094007_AndroSensor.csv', nrows=91)\n",

      "unknown_13 = pd.read_csv('DTW/dataTesting/Sensor_record_20141216_094037_AndroSensor.csv', nrows=91)\n",

      "unknown_14 = pd.read_csv('DTW/dataTesting/Sensor_record_20141216_094114_AndroSensor.csv', nrows=91)\n",

      "unknown_15 = pd.read_csv('DTW/dataTesting/Sensor_record_20141216_094148_AndroSensor.csv', nrows=91)\n",

      "unknown_16= pd.read_csv('DTW/dataTesting/Sensor_record_20141216_094254_AndroSensor.csv', nrows=91)\n",

      "unknown_17 = pd.read_csv('DTW/dataTesting/Sensor_record_20141216_094326_AndroSensor.csv', nrows=91)\n",

      "unknown_18 = pd.read_csv('DTW/dataTesting/Sensor_record_20141216_094406_AndroSensor.csv', nrows=91)\n",

      "unknown_19 = pd.read_csv('DTW/dataTesting/Sensor_record_20141216_094439_AndroSensor.csv', nrows=91)\n",

      "unknown_20 = pd.read_csv('DTW/dataTesting/Sensor_record_20141216_094457_AndroSensor.csv', nrows=91)\n",

      "unknown_21 = pd.read_csv('DTW/dataTesting/Sensor_record_20141214_141138_AndroSensor.csv', nrows=91)\n",

      "unknown_22 = pd.read_csv('DTW/dataTesting/Sensor_record_20141214_132646_AndroSensor.csv', nrows=91)\n",

      "unknown_23 = pd.read_csv('DTW/dataTesting/Sensor_record_20141214_132734_AndroSensor.csv', nrows=91)\n",

      "unknown_24 = pd.read_csv('DTW/dataTesting/Sensor_record_20141214_132837_AndroSensor.csv', nrows=91)\n",

      "unknown_25 = pd.read_csv('DTW/dataTesting/Sensor_record_20141214_132911_AndroSensor.csv', nrows=91)\n",

      "unknown_26 = pd.read_csv('DTW/dataTesting/Sensor_record_20141214_133016_AndroSensor.csv', nrows=91)\n",

      "unknown_27 = pd.read_csv('DTW/dataTesting/Sensor_record_20141214_132945_AndroSensor.csv', nrows=91)\n",

      "unknown_28 = pd.read_csv('DTW/dataTesting/Sensor_record_20141214_133048_AndroSensor.csv', nrows=91)\n",

      "unknown_29 = pd.read_csv('DTW/dataTesting/Sensor_record_20141214_133118_AndroSensor.csv', nrows=91)\n",

      "unknown_30 = pd.read_csv('DTW/dataTesting/Sensor_record_20141214_133159_AndroSensor.csv', nrows=91)\n",

      "unknown_31 = pd.read_csv('DTW/dataTesting/Sensor_record_20141214_141056_AndroSensor.csv', nrows=91)\n",

      "unknown_32 = pd.read_csv('DTW/dataTesting/Sensor_record_20141214_141200_AndroSensor.csv', nrows=91)\n",

      "unknown_33 = pd.read_csv('DTW/dataTesting/Sensor_record_20141214_141237_AndroSensor.csv', nrows=91)\n",

      "unknown_34 = pd.read_csv('DTW/dataTesting/Sensor_record_20141214_141312_AndroSensor.csv', nrows=91)\n",

      "unknown_35 = pd.read_csv('DTW/dataTesting/Sensor_record_20141214_141353_AndroSensor.csv', nrows=91)\n",

      "unknown_36 = pd.read_csv('DTW/dataTesting/Sensor_record_20141214_141521_AndroSensor.csv', nrows=91)\n",

      "unknown_37 = pd.read_csv('DTW/dataTesting/Sensor_record_20141214_141601_AndroSensor.csv', nrows=91)\n",

      "unknown_38 = pd.read_csv('DTW/dataTesting/Sensor_record_20141214_141636_AndroSensor.csv', nrows=91)\n",

      "unknown_39 = pd.read_csv('DTW/dataTesting/Sensor_record_20141214_141712_AndroSensor.csv', nrows=91)\n",

      "unknown_40 = pd.read_csv('DTW/dataTesting/Sensor_record_20141214_141748_AndroSensor.csv', nrows=91)\n",

      "unknown_41 = pd.read_csv('DTW/dataTesting/Sensor_record_20141214_133744_AndroSensor.csv',  nrows=91)\n",

      "unknown_42 = pd.read_csv('DTW/dataTesting/Sensor_record_20141214_133818_AndroSensor.csv',  nrows=91)\n",

      "unknown_43 = pd.read_csv('DTW/dataTesting/Sensor_record_20141214_133849_AndroSensor.csv',  nrows=91)\n",

      "unknown_44 = pd.read_csv('DTW/dataTesting/Sensor_record_20141214_133924_AndroSensor.csv',  nrows=91)\n",

      "unknown_45 = pd.read_csv('DTW/dataTesting/Sensor_record_20141214_133955_AndroSensor.csv',  nrows=91)\n",

      "unknown_46 = pd.read_csv('DTW/dataTesting/Sensor_record_20141214_134034_AndroSensor.csv',  nrows=91) \n",

      "unknown_47 = pd.read_csv('DTW/dataTesting/Sensor_record_20141214_134323_AndroSensor.csv',  nrows=91)\n",

      "unknown_48 = pd.read_csv('DTW/dataTesting/Sensor_record_20141214_134254_AndroSensor.csv',  nrows=91)\n",

      "unknown_49 = pd.read_csv('DTW/dataTesting/Sensor_record_20141214_134350_AndroSensor.csv',  nrows=91)\n",

      "unknown_50 = pd.read_csv('DTW/dataTesting/Sensor_record_20141214_134226_AndroSensor.csv',  nrows=91)\n",

      "unknown_51 = pd.read_csv('DTW/dataTesting/Sensor_record_20141214_143004_AndroSensor.csv',  nrows=91)\n",

      "unknown_52 = pd.read_csv('DTW/dataTesting/Sensor_record_20141214_143039_AndroSensor.csv',  nrows=91)\n",

      "unknown_53 = pd.read_csv('DTW/dataTesting/Sensor_record_20141214_143110_AndroSensor.csv',  nrows=91)\n",

      "unknown_54 = pd.read_csv('DTW/dataTesting/Sensor_record_20141214_143142_AndroSensor.csv',  nrows=91)\n",

      "unknown_55 = pd.read_csv('DTW/dataTesting/Sensor_record_20141214_143212_AndroSensor.csv',  nrows=91)\n",

      "unknown_56 = pd.read_csv('DTW/dataTesting/Sensor_record_20141214_143244_AndroSensor.csv',  nrows=91) \n",

      "unknown_57 = pd.read_csv('DTW/dataTesting/Sensor_record_20141214_143313_AndroSensor.csv',  nrows=91)\n",

      "unknown_58 = pd.read_csv('DTW/dataTesting/Sensor_record_20141214_143343_AndroSensor.csv',  nrows=91)\n",

      "unknown_59 = pd.read_csv('DTW/dataTesting/Sensor_record_20141214_143416_AndroSensor.csv',  nrows=91)\n",

      "unknown_60 = pd.read_csv('DTW/dataTesting/Sensor_record_20141214_143447_AndroSensor.csv',  nrows=91)\n",

      "unknown_61 = pd.read_csv('DTW/dataTesting/Sensor_record_20141214_135656_AndroSensor.csv',  nrows=91)\n",

      "unknown_62 = pd.read_csv('DTW/dataTesting/Sensor_record_20141214_135726_AndroSensor.csv',  nrows=91)\n",

      "unknown_63 = pd.read_csv('DTW/dataTesting/Sensor_record_20141214_135754_AndroSensor.csv',  nrows=91)\n",

      "unknown_64 = pd.read_csv('DTW/dataTesting/Sensor_record_20141214_135840_AndroSensor.csv',  nrows=91)\n",

      "unknown_65 = pd.read_csv('DTW/dataTesting/Sensor_record_20141214_135903_AndroSensor.csv',  nrows=91)\n",

      "unknown_66 = pd.read_csv('DTW/dataTesting/Sensor_record_20141214_135930_AndroSensor.csv',  nrows=91)\n",

      "unknown_67 = pd.read_csv('DTW/dataTesting/Sensor_record_20141214_140000_AndroSensor.csv',  nrows=91)\n",

      "unknown_68 = pd.read_csv('DTW/dataTesting/Sensor_record_20141214_140026_AndroSensor.csv',  nrows=91)\n",

      "unknown_69 = pd.read_csv('DTW/dataTesting/Sensor_record_20141214_140051_AndroSensor.csv',  nrows=91)\n",

      "unknown_70 = pd.read_csv('DTW/dataTesting/Sensor_record_20141214_141319_AndroSensor.csv',  nrows=91)\n",

      "unknown_71 = pd.read_csv('DTW/dataTesting/Sensor_record_20141214_144356_AndroSensor.csv',  nrows=91)\n",

      "unknown_72 = pd.read_csv('DTW/dataTesting/Sensor_record_20141214_144426_AndroSensor.csv',  nrows=91) \n",

      "unknown_73 = pd.read_csv('DTW/dataTesting/Sensor_record_20141214_144456_AndroSensor.csv',  nrows=91)\n",

      "unknown_74 = pd.read_csv('DTW/dataTesting/Sensor_record_20141214_144530_AndroSensor.csv',  nrows=91)\n",

      "unknown_75 = pd.read_csv('DTW/dataTesting/Sensor_record_20141214_144559_AndroSensor.csv',  nrows=91)\n",

      "unknown_76 = pd.read_csv('DTW/dataTesting/Sensor_record_20141214_144835_AndroSensor.csv',  nrows=91)\n",

      "unknown_77 = pd.read_csv('DTW/dataTesting/Sensor_record_20141214_144637_AndroSensor.csv',  nrows=91)\n",

      "unknown_78 = pd.read_csv('DTW/dataTesting/Sensor_record_20141214_144710_AndroSensor.csv',  nrows=91)\n",

      "unknown_79 = pd.read_csv('DTW/dataTesting/Sensor_record_20141214_144740_AndroSensor.csv',  nrows=91)\n",

      "unknown_80 = pd.read_csv('DTW/dataTesting/Sensor_record_20141214_144807_AndroSensor.csv',  nrows=91)"

     ],

     "language": "python",

     "metadata": {},

     "outputs": [],

     "prompt_number": 7

    },

    {

     "cell_type": "code",

     "collapsed": false,

     "input": [

      "#Calculate acceleration data testing\n",

      "unknown_1['m'] = unknown_1.apply(acc, axis=1)\n",

      "unknown_2['m'] = unknown_2.apply(acc, axis=1)\n",

      "unknown_3['m'] = unknown_3.apply(acc, axis=1)\n",

      "unknown_4['m'] = unknown_4.apply(acc, axis=1)\n",

      "unknown_5['m'] = unknown_5.apply(acc, axis=1)\n",

      "unknown_6['m'] = unknown_6.apply(acc, axis=1)\n",

      "unknown_7['m'] = unknown_7.apply(acc, axis=1)\n",

      "unknown_8['m'] = unknown_8.apply(acc, axis=1)\n",

      "unknown_9['m'] = unknown_9.apply(acc, axis=1)\n",

      "unknown_10['m'] = unknown_10.apply(acc, axis=1)\n",

      "unknown_11['m'] = unknown_11.apply(acc, axis=1)\n",

      "unknown_12['m'] = unknown_12.apply(acc, axis=1)\n",

      "unknown_13['m'] = unknown_13.apply(acc, axis=1)\n",

      "unknown_14['m'] = unknown_14.apply(acc, axis=1)\n",

      "unknown_15['m'] = unknown_15.apply(acc, axis=1)\n",

      "unknown_16['m'] = unknown_16.apply(acc, axis=1)\n",

      "unknown_17['m'] = unknown_17.apply(acc, axis=1)\n",

      "unknown_18['m'] = unknown_18.apply(acc, axis=1)\n",

      "unknown_19['m'] = unknown_19.apply(acc, axis=1)\n",

      "unknown_20['m'] = unknown_20.apply(acc, axis=1)\n",

      "unknown_21['m'] = unknown_21.apply(acc, axis=1)\n",

      "unknown_22['m'] = unknown_22.apply(acc, axis=1)\n",

      "unknown_23['m'] = unknown_23.apply(acc, axis=1)\n",

      "unknown_24['m'] = unknown_24.apply(acc, axis=1)\n",

      "unknown_25['m'] = unknown_25.apply(acc, axis=1)\n",

      "unknown_26['m'] = unknown_26.apply(acc, axis=1)\n",

      "unknown_27['m'] = unknown_27.apply(acc, axis=1)\n",

      "unknown_28['m'] = unknown_28.apply(acc, axis=1)\n",

      "unknown_29['m'] = unknown_29.apply(acc, axis=1)\n",

      "unknown_30['m'] = unknown_30.apply(acc, axis=1)\n",

      "unknown_31['m'] = unknown_31.apply(acc, axis=1)\n",

      "unknown_32['m'] = unknown_32.apply(acc, axis=1)\n",

      "unknown_33['m'] = unknown_33.apply(acc, axis=1)\n",

      "unknown_34['m'] = unknown_34.apply(acc, axis=1)\n",

      "unknown_35['m'] = unknown_35.apply(acc, axis=1)\n",

      "unknown_36['m'] = unknown_36.apply(acc, axis=1)\n",

      "unknown_37['m'] = unknown_37.apply(acc, axis=1)\n",

      "unknown_38['m'] = unknown_38.apply(acc, axis=1)\n",

      "unknown_39['m'] = unknown_39.apply(acc, axis=1)\n",

      "unknown_40['m'] = unknown_40.apply(acc, axis=1)\n",

      "unknown_41['m'] = unknown_41.apply(acc, axis=1)\n",

      "unknown_42['m'] = unknown_42.apply(acc, axis=1)\n",

      "unknown_43['m'] = unknown_43.apply(acc, axis=1)\n",

      "unknown_44['m'] = unknown_44.apply(acc, axis=1)\n",

      "unknown_45['m'] = unknown_45.apply(acc, axis=1)\n",

      "unknown_46['m'] = unknown_46.apply(acc, axis=1)\n",

      "unknown_47['m'] = unknown_47.apply(acc, axis=1)\n",

      "unknown_48['m'] = unknown_48.apply(acc, axis=1)\n",

      "unknown_49['m'] = unknown_49.apply(acc, axis=1)\n",

      "unknown_50['m'] = unknown_50.apply(acc, axis=1)\n",

      "unknown_51['m'] = unknown_51.apply(acc, axis=1)\n",

      "unknown_52['m'] = unknown_52.apply(acc, axis=1)\n",

      "unknown_53['m'] = unknown_53.apply(acc, axis=1)\n",

      "unknown_54['m'] = unknown_54.apply(acc, axis=1)\n",

      "unknown_55['m'] = unknown_55.apply(acc, axis=1)\n",

      "unknown_56['m'] = unknown_56.apply(acc, axis=1)\n",

      "unknown_57['m'] = unknown_57.apply(acc, axis=1)\n",

      "unknown_58['m'] = unknown_58.apply(acc, axis=1)\n",

      "unknown_59['m'] = unknown_59.apply(acc, axis=1)\n",

      "unknown_60['m'] = unknown_59.apply(acc, axis=1)\n",

      "unknown_61['m'] = unknown_60.apply(acc, axis=1)\n",

      "unknown_62['m'] = unknown_62.apply(acc, axis=1)\n",

      "unknown_63['m'] = unknown_63.apply(acc, axis=1)\n",

      "unknown_64['m'] = unknown_64.apply(acc, axis=1)\n",

      "unknown_65['m'] = unknown_65.apply(acc, axis=1)\n",

      "unknown_66['m'] = unknown_66.apply(acc, axis=1)\n",

      "unknown_67['m'] = unknown_67.apply(acc, axis=1)\n",

      "unknown_68['m'] = unknown_68.apply(acc, axis=1)\n",

      "unknown_69['m'] = unknown_69.apply(acc, axis=1)\n",

      "unknown_70['m'] = unknown_70.apply(acc, axis=1)\n",

      "unknown_71['m'] = unknown_71.apply(acc, axis=1)\n",

      "unknown_72['m'] = unknown_72.apply(acc, axis=1)\n",

      "unknown_73['m'] = unknown_73.apply(acc, axis=1)\n",

      "unknown_74['m'] = unknown_74.apply(acc, axis=1)\n",

      "unknown_75['m'] = unknown_75.apply(acc, axis=1)\n",

      "unknown_76['m'] = unknown_76.apply(acc, axis=1)\n",

      "unknown_77['m'] = unknown_77.apply(acc, axis=1)\n",

      "unknown_78['m'] = unknown_78.apply(acc, axis=1)\n",

      "unknown_79['m'] = unknown_79.apply(acc, axis=1)\n",

      "unknown_80['m'] = unknown_80.apply(acc, axis=1)"

     ],

     "language": "python",

     "metadata": {},

     "outputs": [],

     "prompt_number": 8

    },

    {

     "cell_type": "code",

     "collapsed": false,

     "input": [

      "# intepolate data testing file  using lienar interpolation and make a label for each activity\n",

      "unknown_1 = interp1d(x, unknown_1['m'], kind='linear')\n",

      "unknown1 = pd.DataFrame(unknown_1(xnew))\n",

      "unknown_2 = interp1d(x, unknown_2['m'], kind='linear')\n",

      "unknown2 = pd.DataFrame(unknown_2(xnew))\n",

      "unknown_3 = interp1d(x, unknown_3['m'], kind='linear')\n",

      "unknown3 = pd.DataFrame(unknown_3(xnew))\n",

      "unknown_4 = interp1d(x, unknown_4['m'], kind='linear')\n",

      "unknown4 = pd.DataFrame(unknown_4(xnew))\n",

      "unknown_5 = interp1d(x, unknown_5['m'], kind='linear')\n",

      "unknown5 = pd.DataFrame(unknown_5(xnew))\n",

      "unknown_6 = interp1d(x, unknown_6['m'], kind='linear')\n",

      "unknown6 = pd.DataFrame(unknown_6(xnew))\n",

      "unknown_7 = interp1d(x, unknown_7['m'], kind='linear')\n",

      "unknown7 = pd.DataFrame(unknown_7(xnew))\n",

      "unknown_8 = interp1d(x, unknown_8['m'], kind='linear')\n",

      "unknown8 = pd.DataFrame(unknown_8(xnew))\n",

      "unknown_9 = interp1d(x, unknown_9['m'], kind='linear')\n",

      "unknown9 = pd.DataFrame(unknown_9(xnew))\n",

      "unknown_10 = interp1d(x, unknown_10['m'], kind='linear')\n",

      "unknown10 = pd.DataFrame(unknown_10(xnew))\n",

      "unknown_11 = interp1d(x, unknown_11['m'], kind='linear')\n",

      "unknown11 = pd.DataFrame(unknown_1(xnew))\n",

      "unknown_12 = interp1d(x, unknown_12['m'], kind='linear')\n",

      "unknown12 = pd.DataFrame(unknown_12(xnew))\n",

      "unknown_13 = interp1d(x, unknown_13['m'], kind='linear')\n",

      "unknown13 = pd.DataFrame(unknown_13(xnew))\n",

      "unknown_14 = interp1d(x, unknown_14['m'], kind='linear')\n",

      "unknown14 = pd.DataFrame(unknown_14(xnew))\n",

      "unknown_15 = interp1d(x, unknown_15['m'], kind='linear')\n",

      "unknown15 = pd.DataFrame(unknown_15(xnew))\n",

      "unknown_16 = interp1d(x, unknown_16['m'], kind='linear')\n",

      "unknown16 = pd.DataFrame(unknown_16(xnew))\n",

      "unknown_17 = interp1d(x, unknown_17['m'], kind='linear')\n",

      "unknown17 = pd.DataFrame(unknown_17(xnew))\n",

      "unknown_18 = interp1d(x, unknown_18['m'], kind='linear')\n",

      "unknown18 = pd.DataFrame(unknown_18(xnew))\n",

      "unknown_19 = interp1d(x, unknown_19['m'], kind='linear')\n",

      "unknown19 = pd.DataFrame(unknown_19(xnew))\n",

      "unknown_20 = interp1d(x, unknown_20['m'], kind='linear')\n",

      "unknown20 = pd.DataFrame(unknown_20(xnew))\n",

      "unknown_21 = interp1d(x, unknown_21['m'], kind='linear')\n",

      "unknown21 = pd.DataFrame(unknown_21(xnew))\n",

      "unknown_22 = interp1d(x,unknown_22['m'], kind='linear')\n",

      "unknown22 = pd.DataFrame(unknown_22(xnew))\n",

      "unknown_23 = interp1d(x, unknown_23['m'], kind='linear')\n",

      "unknown23 = pd.DataFrame(unknown_23(xnew))\n",

      "unknown_24 = interp1d(x, unknown_24['m'], kind='linear')\n",

      "unknown24 = pd.DataFrame(unknown_24(xnew))\n",

      "unknown_25 = interp1d(x, unknown_25['m'], kind='linear')\n",

      "unknown25 = pd.DataFrame(unknown_25(xnew))\n",

      "unknown_26 = interp1d(x, unknown_26['m'], kind='linear')\n",

      "unknown26 = pd.DataFrame(unknown_26(xnew))\n",

      "unknown_27 = interp1d(x, unknown_27['m'], kind='linear')\n",

      "unknown27 = pd.DataFrame(unknown_27(xnew))\n",

      "unknown_28 = interp1d(x,  unknown_28['m'], kind='linear')\n",

      "unknown28 = pd.DataFrame(unknown_28(xnew))\n",

      "unknown_29 = interp1d(x, unknown_29['m'], kind='linear')\n",

      "unknown29 = pd.DataFrame(unknown_29(xnew))\n",

      "unknown_30 = interp1d(x, unknown_30['m'], kind='linear')\n",

      "unknown30 = pd.DataFrame(unknown_30(xnew))\n",

      "unknown_31 = interp1d(x, unknown_31['m'], kind='linear')\n",

      "unknown31 = pd.DataFrame(unknown_31(xnew))\n",

      "unknown_32 = interp1d(x,unknown_32['m'], kind='linear')\n",

      "unknown32 = pd.DataFrame(unknown_32(xnew))\n",

      "unknown_33 = interp1d(x, unknown_33['m'], kind='linear')\n",

      "unknown33 = pd.DataFrame(unknown_33(xnew))\n",

      "unknown_34 = interp1d(x, unknown_34['m'], kind='linear')\n",

      "unknown34 = pd.DataFrame(unknown_34(xnew))\n",

      "unknown_35 = interp1d(x, unknown_35['m'], kind='linear')\n",

      "unknown35 = pd.DataFrame(unknown_35(xnew))\n",

      "unknown_36 = interp1d(x, unknown_36['m'], kind='linear')\n",

      "unknown36 = pd.DataFrame(unknown_36(xnew))\n",

      "unknown_37 = interp1d(x, unknown_37['m'], kind='linear')\n",

      "unknown37 = pd.DataFrame(unknown_37(xnew))\n",

      "unknown_38 = interp1d(x,  unknown_38['m'], kind='linear')\n",

      "unknown38 = pd.DataFrame(unknown_38(xnew))\n",

      "unknown_39 = interp1d(x, unknown_39['m'], kind='linear')\n",

      "unknown39 = pd.DataFrame(unknown_39(xnew))\n",

      "unknown_40 = interp1d(x, unknown_40['m'], kind='linear')\n",

      "unknown40 = pd.DataFrame(unknown_40(xnew))\n",

      "unknown_41 = interp1d(x, unknown_41['m'], kind='linear')\n",

      "unknown41 = pd.DataFrame(unknown_41(xnew))\n",

      "unknown_42 = interp1d(x, unknown_42['m'], kind='linear')\n",

      "unknown42 = pd.DataFrame(unknown_42(xnew))\n",

      "unknown_43 = interp1d(x, unknown_43['m'], kind='linear')\n",

      "unknown43 = pd.DataFrame(unknown_43(xnew))\n",

      "unknown_44 = interp1d(x, unknown_44['m'], kind='linear')\n",

      "unknown44 = pd.DataFrame(unknown_44(xnew))\n",

      "unknown_45 = interp1d(x, unknown_45['m'], kind='linear')\n",

      "unknown45 = pd.DataFrame(unknown_45(xnew))\n",

      "unknown_46 = interp1d(x, unknown_46['m'], kind='linear')\n",

      "unknown46 = pd.DataFrame(unknown_46(xnew))\n",

      "unknown_47 = interp1d(x, unknown_47['m'], kind='linear')\n",

      "unknown47 = pd.DataFrame(unknown_47(xnew))\n",

      "unknown_48 = interp1d(x, unknown_48['m'], kind='linear')\n",

      "unknown48 = pd.DataFrame(unknown_48(xnew))\n",

      "unknown_49 = interp1d(x, unknown_49['m'], kind='linear')\n",

      "unknown49 = pd.DataFrame(unknown_49(xnew))\n",

      "unknown_50 = interp1d(x, unknown_50['m'], kind='linear')\n",

      "unknown50 = pd.DataFrame(unknown_50(xnew))\n",

      "unknown_51 = interp1d(x, unknown_51['m'], kind='linear')\n",

      "unknown51 = pd.DataFrame(unknown_51(xnew))\n",

      "unknown_52 = interp1d(x, unknown_52['m'], kind='linear')\n",

      "unknown52 = pd.DataFrame(unknown_52(xnew))\n",

      "unknown_53 = interp1d(x, unknown_53['m'], kind='linear')\n",

      "unknown53 = pd.DataFrame(unknown_53(xnew))\n",

      "unknown_54 = interp1d(x, unknown_54['m'], kind='linear')\n",

      "unknown54 = pd.DataFrame(unknown_54(xnew))\n",

      "unknown_55 = interp1d(x, unknown_55['m'], kind='linear')\n",

      "unknown55 = pd.DataFrame(unknown_55(xnew))\n",

      "unknown_56 = interp1d(x, unknown_56['m'], kind='linear')\n",

      "unknown56 = pd.DataFrame(unknown_56(xnew))\n",

      "unknown_57 = interp1d(x,  unknown_57['m'], kind='linear')\n",

      "unknown57 = pd.DataFrame(unknown_57(xnew))\n",

      "unknown_58 = interp1d(x, unknown_58['m'], kind='linear')\n",

      "unknown58 = pd.DataFrame(unknown_58(xnew))\n",

      "unknown_59 = interp1d(x, unknown_59['m'], kind='linear')\n",

      "unknown59 = pd.DataFrame(unknown_59(xnew))\n",

      "unknown_60 = interp1d(x, unknown_60['m'], kind='linear')\n",

      "unknown60 = pd.DataFrame(unknown_60(xnew))\n",

      "unknown_61 = interp1d(x, unknown_61['m'], kind='linear')\n",

      "unknown61 = pd.DataFrame(unknown_61(xnew))\n",

      "unknown_62 = interp1d(x, unknown_62['m'], kind='linear')\n",

      "unknown62 = pd.DataFrame(unknown_62(xnew))\n",

      "unknown_63 = interp1d(x, unknown_63['m'], kind='linear')\n",

      "unknown63 = pd.DataFrame(unknown_63(xnew))\n",

      "unknown_64 = interp1d(x, unknown_64['m'], kind='linear')\n",

      "unknown64 = pd.DataFrame(unknown_64(xnew))\n",

      "unknown_65 = interp1d(x, unknown_65['m'], kind='linear')\n",

      "unknown65 = pd.DataFrame(unknown_65(xnew))\n",

      "unknown_66 = interp1d(x, unknown_66['m'], kind='linear')\n",

      "unknown66 = pd.DataFrame(unknown_66(xnew))\n",

      "unknown_67 = interp1d(x, unknown_67['m'], kind='linear')\n",

      "unknown67 = pd.DataFrame(unknown_67(xnew))\n",

      "unknown_68 = interp1d(x, unknown_68['m'], kind='linear')\n",

      "unknown68 = pd.DataFrame(unknown_68(xnew))\n",

      "unknown_69 = interp1d(x, unknown_69['m'], kind='linear')\n",

      "unknown69 = pd.DataFrame(unknown_69(xnew))\n",

      "unknown_70 = interp1d(x, unknown_70['m'], kind='linear')\n",

      "unknown70 = pd.DataFrame(unknown_70(xnew))\n",

      "unknown_71 = interp1d(x, unknown_71['m'], kind='linear')\n",

      "unknown71 = pd.DataFrame(unknown_71(xnew))\n",

      "unknown_72 = interp1d(x, unknown_72['m'], kind='linear')\n",

      "unknown72 = pd.DataFrame(unknown_72(xnew))\n",

      "unknown_73 = interp1d(x, unknown_73['m'], kind='linear')\n",

      "unknown73 = pd.DataFrame(unknown_73(xnew))\n",

      "unknown_74 = interp1d(x, unknown_74['m'], kind='linear')\n",

      "unknown74 = pd.DataFrame(unknown_74(xnew))\n",

      "unknown_75 = interp1d(x, unknown_75['m'], kind='linear')\n",

      "unknown75 = pd.DataFrame(unknown_75(xnew))\n",

      "unknown_76 = interp1d(x, unknown_76['m'], kind='linear')\n",

      "unknown76 = pd.DataFrame(unknown_76(xnew))\n",

      "unknown_77 = interp1d(x, unknown_77['m'], kind='linear')\n",

      "unknown77 = pd.DataFrame(unknown_77(xnew))\n",

      "unknown_78 = interp1d(x, unknown_78['m'], kind='linear')\n",

      "unknown78 = pd.DataFrame(unknown_78(xnew))\n",

      "unknown_79 = interp1d(x, unknown_79['m'], kind='linear')\n",

      "unknown79 = pd.DataFrame(unknown_79(xnew))\n",

      "unknown_80 = interp1d(x, unknown_80['m'], kind='linear')\n",

      "unknown80 = pd.DataFrame(unknown_80(xnew))"

     ],

     "language": "python",

     "metadata": {},

     "outputs": [],

     "prompt_number": 9

    },

    {

     "cell_type": "code",

     "collapsed": false,

     "input": [

      "# Dynamnic Time Wrapping Algorithm for detecting data test \n",

      "\n",

      "dataku = [] #empty list, after looping, it will be filled with distance from data test to template\n",

      "for line in range(4):\n",

      "    count = 4 # initialization for ending loop\n",

      "    data = [fall,walking,running,upstairs] # put template to array list\n",

      "    dist, cost, path = DTW(unknown1, data[line]) # compute the distance between two time series data using DTW\n",

      "    tuples = [dist, 'Detected activity:', data[line].columns] #set tupple distance and label activity\n",

      "    dataku.append(tuples) # append distance to list dataku\n",

      "    if len(dataku) == count:\n",

      "        print dataku # print each distance from data test (unkwown) to each template\n",

      "        print \"The minimum distance:\", min(dataku) # detect minimum distance \n",

      "        fig = plt.figure(figsize=(12,4)) # plotting data test(unknown) and all template data\n",

      "        _= plt.plot(fall, label=\"Fall\")\n",

      "        _= plt.plot(walking, label=\"Walking\")\n",

      "        _= plt.plot(running, label=\"Running\")\n",

      "        _= plt.plot(upstairs, label=\"Upstairs\")\n",

      "        _= plt.plot(unknown2, label=\"Unknown Pattern\")\n",

      "        _ =plt.legend(loc=9, bbox_to_anchor=(0.5, -0.1), ncol=6)"

     ],

     "language": "python",

     "metadata": {},

     "outputs": [

      {

       "output_type": "stream",

       "stream": "stdout",

       "text": [

        "[[0.51650459236550383, 'Detected activity:', Index([u'Fall'], dtype='object')], [1.4899235630039376, 'Detected activity:', Index([u'Walking'], dtype='object')], [1.715734442692437, 'Detected activity:', Index([u'Running'], dtype='object')], [1.2441417422620804, 'Detected activity:', Index([u'Upstrais'], dtype='object')]]\n",

        "The minimum distance: [0.51650459236550383, 'Detected activity:', Index([u'Fall'], dtype='object')]\n"

       ]

      },

      {

       "metadata": {},

       "output_type": "display_data",

       "png": "[encoded data removed]",

       "text": [

        "<matplotlib.figure.Figure at 0x8959af0>"

       ]

      }

     ],

     "prompt_number": 11

    },

    {

     "cell_type": "code",

     "collapsed": false,

     "input": [

      "\n",

      "y_true = ['Fall','Fall','Fall','Fall','Fall','Fall','Fall','Fall','Fall','Fall',\n",

      "          'Fall','Fall','Fall','Fall','Fall','Fall','Fall','Fall','Fall','Fall',\n",

      "          'Walking','Walking','Walking','Walking','Walking','Walking','Walking','Walking','Walking','Walking',\n",

      "          'Walking','Walking','Walking','Walking','Walking','Walking','Walking','Walking','Walking','Walking',\n",

      "          'Running','Running','Running','Running','Running','Running','Running','Running','Running','Running',\n",

      "          'Running','Running','Running','Running','Running','Running','Running','Running','Running','Running',\n",

      "          'Upstairs','Upstairs','Upstairs','Upstairs','Upstairs','Upstairs','Upstairs','Upstairs','Upstairs','Upstairs',\n",

      "          'Upstairs','Upstairs','Upstairs','Upstairs','Upstairs','Upstairs','Upstairs','Upstairs','Upstairs','Upstairs'\n",

      "          ]"

     ],

     "language": "python",

     "metadata": {},

     "outputs": [],

     "prompt_number": 13

    },

    {

     "cell_type": "code",

     "collapsed": false,

     "input": [

      "y_pred = ['Fall','Fall','Fall','Fall','Fall','Fall','Fall','Fall','Fall','Fall',\n",

      "          'Fall','Fall','Fall','Fall','Fall','Fall','Fall','Fall','Fall','Fall',\n",

      "          'Walking','Walking','Walking','Fall','Walking','Walking','Walking','Walking','Walking','Walking',\n",

      "          'Walking','Upstairs','Upstairs','Upstairs','Walking','Walking','Walking','Walking','Walking','Walking',\n",

      "          'Running','Running','Running','Running','Running','Running','Running','Running','Running','Running',\n",

      "          'Running','Running','Running','Running','Running','Running','Running','Running','Running','Running',\n",

      "          'Upstairs','Upstairs','Upstairs','Upstairs','Upstairs','Upstairs','Upstairs','Upstairs','Upstairs','Upstairs',\n",

      "          'Upstairs','Upstairs','Upstairs','Upstairs','Upstairs','Upstairs','Upstairs','Upstairs','Upstairs','Upstairs'\n",

      "          ]"

     ],

     "language": "python",

     "metadata": {},

     "outputs": [],

     "prompt_number": 14

    },

    {

     "cell_type": "code",

     "collapsed": false,

     "input": [

      "from sklearn.metrics import classification_report, confusion_matrix # lib for showing classification report\n",

      "labels = {1:'FALL', 2:'RUNNING', 3:'UPSTAIRS', 4:'WALKING'}\n",

      "# y true is data testing label and y pred is prediction label\n",

      "print classification_report(y_true, y_pred) # print classification report\n",

      "conf_mat = confusion_matrix(y_true, y_pred) # calculate confusion matrix\n",

      "fig = plt.figure(figsize=(6,6))\n",

      "width = shape(conf_mat)[1]\n",

      "height = shape(conf_mat)[0]\n",

      "res = plt.imshow(array(conf_mat), cmap=cm.summer, interpolation='nearest')\n",

      "for i, row in enumerate(conf_mat):\n",

      "    for j, c in enumerate(row):\n",

      "        if c>0:\n",

      "            plt.text(j-.2, i+.1, c, fontsize=16)\n",

      "\n",

      "#plotting confusion matrix\n",

      "cb = fig.colorbar(res)\n",

      "plt.title('Confusion Matrix')\n",

      "plt.ylabel(\"True label\")\n",

      "plt.xlabel(\"Predicted Label\")\n",

      "_ = plt.xticks(range(4), [l for l in labels.values()], rotation=90)\n",

      "_ = plt.yticks(range(4), [l for l in labels.values()])"

     ],

     "language": "python",

     "metadata": {},

     "outputs": [

      {

       "output_type": "stream",

       "stream": "stdout",

       "text": [

        "             precision    recall  f1-score   support\n",

        "\n",

        "       Fall       0.95      1.00      0.98        20\n",

        "    Running       1.00      1.00      1.00        20\n",

        "   Upstairs       0.87      1.00      0.93        20\n",

        "    Walking       1.00      0.80      0.89        20\n",

        "\n",

        "avg / total       0.96      0.95      0.95        80\n",

        "\n"

       ]

      },

      {

       "metadata": {},

       "output_type": "display_data",

       "png": "[encoded data removed]",

       "text": [

        "<matplotlib.figure.Figure at 0x93edb70>"

       ]

      }

     ],

     "prompt_number": 15

    }

   ],

   "metadata": {}

  }

 ]

}
